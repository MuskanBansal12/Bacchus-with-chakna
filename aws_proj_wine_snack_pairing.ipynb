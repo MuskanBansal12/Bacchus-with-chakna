{
 "cells": [
  {
   "cell_type": "code",
   "execution_count": null,
   "metadata": {},
   "outputs": [],
   "source": [
    "import pandas as pd\n",
    "import joblib\n",
    "from sklearn.preprocessing import LabelEncoder\n",
    "from sklearn.model_selection import train_test_split\n",
    "from sklearn.ensemble import RandomForestClassifier\n",
    "from sklearn.metrics import accuracy_score\n",
    "\n",
    "# Load dataset\n",
    "df = pd.read_csv(\"alcohol_snack_pairing_final.csv\")\n",
    "\n",
    "# Save original names **before** encoding\n",
    "original_snacks = df[\"Snack Name\"].unique().tolist()\n",
    "original_drinks = df[\"Beverage Name\"].unique().tolist()\n",
    "\n",
    "# Store Pairing Notes before dropping the column\n",
    "if \"Pairing Notes\" in df.columns:\n",
    "    pairing_notes = dict(zip(zip(df[\"Beverage Name\"], df[\"Snack Name\"]), df[\"Pairing Notes\"]))\n",
    "    df = df.drop(columns=[\"Pairing Notes\"])  # Remove pairing notes\n",
    "else:\n",
    "    pairing_notes = {}\n",
    "\n",
    "# List categorical columns (excluding target variables)\n",
    "categorical_columns = [\"Type\", \"Flavor Profile\", \"Acidity Level\", \"Sweetness Level\", \n",
    "                       \"Tannin Level\", \"Serving Temperature\", \"Cuisine Type\", \"Snack Flavor Profile\",\n",
    "                       \"Texture\", \"Fat Content\", \"Spice Level\"]\n",
    "\n",
    "# Apply Label Encoding to all categorical features\n",
    "encoders = {}  # Dictionary to store encoders\n",
    "for col in categorical_columns:\n",
    "    le = LabelEncoder()\n",
    "    df[col] = le.fit_transform(df[col].astype(str))  # Convert to string before encoding\n",
    "    encoders[col] = le  # Save encoder for later use\n",
    "\n",
    "# **Fix:** Ensure all snacks and drinks are encoded properly\n",
    "snack_encoder = LabelEncoder()\n",
    "df[\"Snack Name\"] = snack_encoder.fit_transform(df[\"Snack Name\"].astype(str))\n",
    "\n",
    "drink_encoder = LabelEncoder()\n",
    "df[\"Beverage Name\"] = drink_encoder.fit_transform(df[\"Beverage Name\"].astype(str))\n",
    "\n",
    "# **Save processed dataset for debugging**\n",
    "df.to_csv(\"processed_dataset.csv\", index=False)  # ✅ Save processed dataset\n",
    "\n",
    "# Save encoders\n",
    "joblib.dump(encoders, \"feature_encoders.pkl\")  # Save feature encoders\n",
    "joblib.dump(snack_encoder, \"snack_encoder.pkl\")\n",
    "joblib.dump(drink_encoder, \"drink_encoder.pkl\")\n",
    "joblib.dump(pairing_notes, \"pairing_notes.pkl\")  # ✅ Save pairing notes properly\n",
    "joblib.dump(original_snacks, \"original_snacks.pkl\")  # Save correct original names\n",
    "joblib.dump(original_drinks, \"original_drinks.pkl\")  # Save correct original names\n",
    "\n",
    "# Train Drink Recommendation Model\n",
    "X = df.drop([\"Beverage Name\"], axis=1)  # Now all columns are numeric\n",
    "y = df[\"Beverage Name\"]\n",
    "\n",
    "X_train, X_test, y_train, y_test = train_test_split(X, y, test_size=0.2, random_state=42)\n",
    "\n",
    "drink_model = RandomForestClassifier(n_estimators=100, random_state=42)\n",
    "drink_model.fit(X_train, y_train)\n",
    "\n",
    "y_pred = drink_model.predict(X_test)\n",
    "print(f\"✅ Drink Model Accuracy: {accuracy_score(y_test, y_pred) * 100:.2f}%\")\n",
    "\n",
    "joblib.dump(drink_model, \"drink_recommendation_model.pkl\")\n",
    "\n",
    "# Train Snack Recommendation Model\n",
    "X_snack = df.drop([\"Snack Name\"], axis=1)\n",
    "y_snack = df[\"Snack Name\"]\n",
    "\n",
    "X_train, X_test, y_train, y_test = train_test_split(X_snack, y_snack, test_size=0.2, random_state=42)\n",
    "\n",
    "snack_model = RandomForestClassifier(n_estimators=100, random_state=42)\n",
    "snack_model.fit(X_train, y_train)\n",
    "\n",
    "y_pred_snack = snack_model.predict(X_test)\n",
    "print(f\"✅ Snack Model Accuracy: {accuracy_score(y_test, y_pred_snack) * 100:.2f}%\")\n",
    "\n",
    "joblib.dump(snack_model, \"snack_recommendation_model.pkl\")\n",
    "\n",
    "print(\"✅ Models Trained and Saved Successfully!\")\n"
   ]
  },
  {
   "cell_type": "code",
   "execution_count": 57,
   "metadata": {},
   "outputs": [
    {
     "name": "stdout",
     "output_type": "stream",
     "text": [
      "Encoded Snacks: ['Barbecue Wings', 'Bhujia', 'Buffalo Wings', 'Chakli', 'Cheese Platter', 'Chips & Guacamole', 'Dark Chocolate', 'Dhokla', 'French Fries', 'Grilled Chicken', 'Jalebi', 'Masala Peanuts', 'Paneer Tikka', 'Pani Puri', 'Peanut Butter Cookies', 'Popcorn', 'Pretzels', 'Salted Nuts', 'Samosa', 'Spicy Nachos']\n",
      "Original Snacks: ['Barbecue Wings', 'Grilled Chicken', 'Pretzels', 'Chakli', 'Chips & Guacamole', 'Barbecue Wings', 'French Fries', 'Dark Chocolate', 'Masala Peanuts', 'Spicy Nachos', 'Grilled Chicken', 'Salted Nuts', 'Pani Puri', 'Barbecue Wings', 'Paneer Tikka', 'Samosa', 'Buffalo Wings', 'Salted Nuts', 'Jalebi', 'Dhokla', 'Paneer Tikka', 'Salted Nuts', 'Grilled Chicken', 'Chakli', 'Paneer Tikka', 'Dhokla', 'Salted Nuts', 'Chakli', 'Paneer Tikka', 'French Fries', 'Samosa', 'Pretzels', 'Bhujia', 'Jalebi', 'Cheese Platter', 'Peanut Butter Cookies', 'Samosa', 'Salted Nuts', 'Barbecue Wings', 'Grilled Chicken', 'Popcorn', 'Salted Nuts', 'Paneer Tikka', 'Jalebi', 'Jalebi', 'Samosa', 'Cheese Platter', 'Masala Peanuts', 'Bhujia', 'Grilled Chicken', 'Samosa', 'Grilled Chicken', 'Jalebi', 'Salted Nuts', 'Buffalo Wings', 'Pani Puri', 'Chips & Guacamole', 'Spicy Nachos', 'Dark Chocolate', 'Dark Chocolate', 'Dark Chocolate', 'Peanut Butter Cookies', 'Cheese Platter', 'Barbecue Wings', 'Salted Nuts', 'Samosa']\n",
      "Encoded Drinks: ['Absinthe', 'Amaretto', 'Amber Ale', 'Apong', 'Baileys Irish Cream', 'Bira 91', 'Blender’s Pride', 'Bloody Mary', 'Brandy', 'Brown Ale', 'Cabernet Sauvignon', 'Champagne', 'Chardonnay', 'Cognac', 'Cosmopolitan', 'Daiquiri', 'Espresso Martini', 'Feni', 'Fratelli Sangiovese', 'Gin', 'Gose', 'Grenache', 'Handia', 'Haywards 5000', 'Hefeweizen', 'Hercules Rum', 'IPA', 'Kingfisher', 'Lager', 'Long Island Iced Tea', 'Magic Moments', 'Mahua', 'Mai Tai', 'Malbec', 'Margarita', 'McDowell’s No.1', 'McDowell’s No.1 Rum', 'Merlot', 'Mezcal', 'Mojito', 'Negroni', 'Old Fashioned', 'Old Monk', 'Pilsner', 'Pina Colada', 'Pinot Noir', 'Porter', 'Prosecco', 'Riesling', 'Royal Challenge Beer', 'Royal Stag', 'Rum', 'Saison', 'Sambuca', 'Sauvignon Blanc', 'Smirnoff', 'Stout', 'Sula Chenin Blanc', 'Tequila', 'Thunderbolt Beer', 'Toddy', 'Vodka', 'Wheat Beer', 'Whiskey', 'Whiskey Sour', 'Zinfandel']\n",
      "Original Drinks: ['Sauvignon Blanc', 'Lager', 'Baileys Irish Cream', 'Stout', 'Merlot', 'Brandy', 'Mezcal', 'Hefeweizen', 'Espresso Martini', 'Zinfandel', 'Amaretto', 'Prosecco', 'Wheat Beer', 'Pilsner', 'Mojito', 'Gose', 'Chardonnay', 'Old Fashioned', 'Sambuca', 'Tequila', 'Daiquiri', 'Cosmopolitan', 'Gin', 'Grenache', 'Brown Ale', 'Amber Ale', 'Absinthe', 'Whiskey Sour', 'Negroni', 'Saison', 'Porter', 'Cognac', 'IPA', 'Mai Tai', 'Bloody Mary', 'Champagne', 'Pina Colada', 'Vodka', 'Long Island Iced Tea', 'Rum', 'Cabernet Sauvignon', 'Riesling', 'Pinot Noir', 'Whiskey', 'Malbec', 'Margarita', 'Feni', 'Mahua', 'Toddy', 'Handia', 'Apong', 'Royal Stag', 'Blender’s Pride', 'McDowell’s No.1', 'Old Monk', 'McDowell’s No.1 Rum', 'Kingfisher', 'Bira 91', 'Magic Moments', 'Sula Chenin Blanc', 'Fratelli Sangiovese', 'Royal Challenge Beer', 'Haywards 5000', 'Thunderbolt Beer', 'Smirnoff', 'Hercules Rum']\n"
     ]
    }
   ],
   "source": [
    "import joblib\n",
    "\n",
    "# Load encoders and original names\n",
    "snack_encoder = joblib.load(\"snack_encoder.pkl\")\n",
    "drink_encoder = joblib.load(\"drink_encoder.pkl\")\n",
    "original_snacks = joblib.load(\"original_snacks.pkl\")  # This should contain real names\n",
    "original_drinks = joblib.load(\"original_drinks.pkl\")  # This should contain real names\n",
    "\n",
    "# Print values\n",
    "print(\"Encoded Snacks:\", list(snack_encoder.classes_))  # Should contain names, not numbers\n",
    "print(\"Original Snacks:\", original_snacks)  # Should contain real snack names\n",
    "print(\"Encoded Drinks:\", list(drink_encoder.classes_))  # Should contain names, not numbers\n",
    "print(\"Original Drinks:\", original_drinks)  # Should contain real drink names\n"
   ]
  },
  {
   "cell_type": "code",
   "execution_count": 33,
   "metadata": {},
   "outputs": [],
   "source": [
    "from xgboost import XGBClassifier\n",
    "\n",
    "drink_model = XGBClassifier(n_estimators=300, learning_rate=0.05, max_depth=5)\n",
    "snack_model = XGBClassifier(n_estimators=300, learning_rate=0.05, max_depth=5)\n"
   ]
  }
 ],
 "metadata": {
  "kernelspec": {
   "display_name": "Python 3",
   "language": "python",
   "name": "python3"
  },
  "language_info": {
   "codemirror_mode": {
    "name": "ipython",
    "version": 3
   },
   "file_extension": ".py",
   "mimetype": "text/x-python",
   "name": "python",
   "nbconvert_exporter": "python",
   "pygments_lexer": "ipython3",
   "version": "3.13.0"
  }
 },
 "nbformat": 4,
 "nbformat_minor": 2
}
